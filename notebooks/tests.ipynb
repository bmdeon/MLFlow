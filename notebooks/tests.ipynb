{
 "cells": [
  {
   "cell_type": "code",
   "execution_count": 42,
   "metadata": {},
   "outputs": [],
   "source": [
    "import pandas as pd\n",
    "\n",
    "from sklearn.datasets import load_iris\n",
    "from sklearn.datasets import fetch_openml\n",
    "from sklearn.model_selection import train_test_split\n",
    "from sklearn.ensemble import RandomForestClassifier\n",
    "from sklearn.metrics import accuracy_score, precision_score, recall_score, f1_score\n",
    "\n",
    "import mlflow\n",
    "\n",
    "from utils.config import *"
   ]
  },
  {
   "cell_type": "code",
   "execution_count": 53,
   "metadata": {},
   "outputs": [],
   "source": [
    "# Load the dataset\n",
    "data = fetch_openml(name='creditcard', version=1, as_frame=True)\n",
    "df = pd.DataFrame(data=data.data, columns=data.feature_names)\n",
    "df['target'] = data.target\n",
    "\n",
    "df = df.iloc[:10000]\n",
    "\n",
    "# Split the data into training and testing sets\n",
    "X_train, X_test, y_train, y_test = train_test_split(df[data.feature_names],\n",
    "                                                    df['target'],\n",
    "                                                    test_size=0.2,\n",
    "                                                    random_state=42)\n"
   ]
  },
  {
   "cell_type": "code",
   "execution_count": 54,
   "metadata": {},
   "outputs": [],
   "source": [
    "def train(params):\n",
    "    with mlflow.start_run():\n",
    "        # Train model\n",
    "        mlflow.log_params(params)\n",
    "\n",
    "        clf = RandomForestClassifier(**params)\n",
    "        clf.fit(X_train, y_train)\n",
    "\n",
    "        y_pred = clf.predict(X_test)\n",
    "\n",
    "        signature = mlflow.models.infer_signature(X_train[:10], y_pred[:10])\n",
    "\n",
    "        mlflow.sklearn.log_model(clf,\n",
    "                                 'model',\n",
    "                                 signature=signature,\n",
    "                                 input_example=X_train[:2])\n",
    "\n",
    "        accuracy = accuracy_score(y_test, y_pred)\n",
    "        precision = precision_score(y_test, y_pred, average='weighted')\n",
    "        recall = recall_score(y_test, y_pred, average='weighted')\n",
    "        f1 = f1_score(y_test, y_pred, average='weighted')\n",
    "\n",
    "        mlflow.log_metric('accuracy', accuracy)\n",
    "        mlflow.log_metric('precision', precision)\n",
    "        mlflow.log_metric('recall', recall)\n",
    "        mlflow.log_metric('f1', f1)\n",
    "\n",
    "        # Show results\n",
    "        print(f\"accuracy: {accuracy:.3f}\")\n",
    "        print(f\"precision:  {precision:.3f}\")\n",
    "        print(f\"recall:  {recall:.3f}\")\n",
    "        print(f\"f1:  {f1:.3f}\")"
   ]
  },
  {
   "cell_type": "code",
   "execution_count": 63,
   "metadata": {},
   "outputs": [
    {
     "name": "stderr",
     "output_type": "stream",
     "text": [
      "2025/02/28 15:29:38 INFO mlflow.tracking.fluent: Experiment with name 'Teste4' does not exist. Creating a new experiment.\n"
     ]
    },
    {
     "data": {
      "text/plain": [
       "<Experiment: artifact_location='file:C:\\\\Users\\\\bruno.deon\\\\Desktop\\\\Workspace\\\\AirFlow\\\\mlflow/492419223660894322', creation_time=1740767378346, experiment_id='492419223660894322', last_update_time=1740767378346, lifecycle_stage='active', name='Teste4', tags={}>"
      ]
     },
     "execution_count": 63,
     "metadata": {},
     "output_type": "execute_result"
    }
   ],
   "source": [
    "path_mlruns = os.path.join(PROJECT_PATH, 'mlflow')\n",
    "mlflow.set_tracking_uri(f\"file:{path_mlruns}\")\n",
    "mlflow.set_experiment('Teste4')"
   ]
  },
  {
   "cell_type": "code",
   "execution_count": 59,
   "metadata": {},
   "outputs": [
    {
     "name": "stdout",
     "output_type": "stream",
     "text": [
      "accuracy: 0.999\n",
      "precision:  0.999\n",
      "recall:  0.999\n",
      "f1:  0.998\n"
     ]
    }
   ],
   "source": [
    "params = {\n",
    "    'random_state': 0,\n",
    "    'n_estimators': 15,\n",
    "    'max_depth': 3,\n",
    "    'class_weight': 'balanced'\n",
    "}\n",
    "\n",
    "train(params)"
   ]
  },
  {
   "cell_type": "code",
   "execution_count": 52,
   "metadata": {},
   "outputs": [
    {
     "name": "stdout",
     "output_type": "stream",
     "text": [
      "MLflow UI is running at http://127.0.0.1:5050\n"
     ]
    }
   ],
   "source": [
    "import subprocess\n",
    "\n",
    "# Get the tracking URI dynamically\n",
    "path_mlruns = mlflow.get_tracking_uri()\n",
    "\n",
    "# Define the command to launch MLflow UI on port 5010\n",
    "command = [\n",
    "    \"mlflow\", \"ui\", \"--backend-store-uri\", f\"{path_mlruns}\", \"--port\", \"5050\"\n",
    "]\n",
    "\n",
    "# Start the MLflow UI in the background\n",
    "process = subprocess.Popen(command)\n",
    "\n",
    "print(f\"MLflow UI is running at http://127.0.0.1:5050\")"
   ]
  },
  {
   "cell_type": "code",
   "execution_count": 64,
   "metadata": {},
   "outputs": [],
   "source": [
    "process.terminate()"
   ]
  },
  {
   "cell_type": "code",
   "execution_count": null,
   "metadata": {},
   "outputs": [],
   "source": []
  },
  {
   "cell_type": "code",
   "execution_count": 62,
   "metadata": {},
   "outputs": [
    {
     "data": {
      "text/plain": [
       "<Experiment: artifact_location='file:C:\\\\Users\\\\bruno.deon\\\\Desktop\\\\Workspace\\\\AirFlow\\\\mlflow/370614023596435975', creation_time=1740760899120, experiment_id='370614023596435975', last_update_time=1740760899120, lifecycle_stage='active', name='Teste1', tags={}>"
      ]
     },
     "execution_count": 62,
     "metadata": {},
     "output_type": "execute_result"
    }
   ],
   "source": [
    "mlflow.get_experiment_by_name('Teste1')"
   ]
  },
  {
   "cell_type": "code",
   "execution_count": null,
   "metadata": {},
   "outputs": [],
   "source": []
  }
 ],
 "metadata": {
  "kernelspec": {
   "display_name": "Python 3",
   "language": "python",
   "name": "python3"
  },
  "language_info": {
   "codemirror_mode": {
    "name": "ipython",
    "version": 3
   },
   "file_extension": ".py",
   "mimetype": "text/x-python",
   "name": "python",
   "nbconvert_exporter": "python",
   "pygments_lexer": "ipython3",
   "version": "3.11.0"
  }
 },
 "nbformat": 4,
 "nbformat_minor": 2
}
